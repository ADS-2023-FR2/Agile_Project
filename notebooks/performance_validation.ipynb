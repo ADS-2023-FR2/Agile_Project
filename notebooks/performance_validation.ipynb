{
 "cells": [
  {
   "cell_type": "code",
   "execution_count": 1,
   "id": "a8ae08ab",
   "metadata": {},
   "outputs": [],
   "source": [
    "import numpy as np\n",
    "import pandas as pd\n",
    "import matplotlib.pyplot as plt"
   ]
  },
  {
   "cell_type": "code",
   "execution_count": 5,
   "id": "8eef48cf",
   "metadata": {},
   "outputs": [],
   "source": [
    "original = pd.read_csv('../data/datasets/movielens_1M.csv')\n",
    "predicted = pd.read_csv('../data/predictions/movielens_1M_predictions.csv')"
   ]
  },
  {
   "cell_type": "code",
   "execution_count": 9,
   "id": "885ce85c",
   "metadata": {},
   "outputs": [],
   "source": [
    "merged_df = pd.merge(original, predicted, on=['user_id', 'item_id'], how='inner')"
   ]
  },
  {
   "cell_type": "code",
   "execution_count": 46,
   "id": "614a44b9",
   "metadata": {},
   "outputs": [],
   "source": [
    "ratings = merged_df['rating'].to_numpy()\n",
    "predictions = merged_df['prediction'].to_numpy()"
   ]
  },
  {
   "cell_type": "code",
   "execution_count": 47,
   "id": "da34e2d4",
   "metadata": {},
   "outputs": [
    {
     "name": "stdout",
     "output_type": "stream",
     "text": [
      "MSE = 1.0099233449842195\n"
     ]
    }
   ],
   "source": [
    "mse = np.mean((ratings - predictions) ** 2)\n",
    "\n",
    "print('MSE =', mse)"
   ]
  },
  {
   "cell_type": "code",
   "execution_count": 48,
   "id": "f5c19c96",
   "metadata": {},
   "outputs": [
    {
     "name": "stdout",
     "output_type": "stream",
     "text": [
      "MAE = 0.7861437441674762\n"
     ]
    }
   ],
   "source": [
    "mae = np.mean(np.abs(ratings - predictions))\n",
    "\n",
    "print('MAE =', mae)"
   ]
  },
  {
   "cell_type": "code",
   "execution_count": 20,
   "id": "a146160a",
   "metadata": {},
   "outputs": [
    {
     "data": {
      "text/plain": [
       "(array([1.0000e+00, 0.0000e+00, 1.0000e+00, 3.0000e+00, 4.0000e+00,\n",
       "        1.7000e+01, 5.1000e+01, 1.4500e+02, 3.5300e+02, 7.8600e+02,\n",
       "        1.6640e+03, 3.4660e+03, 6.2020e+03, 1.1341e+04, 1.8298e+04,\n",
       "        2.6596e+04, 3.2976e+04, 3.3747e+04, 2.8034e+04, 1.8597e+04,\n",
       "        9.9550e+03, 4.5420e+03, 2.0200e+03, 7.7700e+02, 2.9900e+02,\n",
       "        9.3000e+01, 4.8000e+01, 1.4000e+01, 9.0000e+00, 3.0000e+00]),\n",
       " array([-6.8260884 , -6.41922189, -6.01235538, -5.60548887, -5.19862236,\n",
       "        -4.79175585, -4.38488934, -3.97802283, -3.57115632, -3.16428981,\n",
       "        -2.7574233 , -2.35055679, -1.94369028, -1.53682377, -1.12995726,\n",
       "        -0.72309075, -0.31622424,  0.09064227,  0.49750878,  0.90437529,\n",
       "         1.3112418 ,  1.71810831,  2.12497482,  2.53184133,  2.93870784,\n",
       "         3.34557435,  3.75244086,  4.15930737,  4.56617388,  4.97304039,\n",
       "         5.3799069 ]),\n",
       " <BarContainer object of 30 artists>)"
      ]
     },
     "execution_count": 20,
     "metadata": {},
     "output_type": "execute_result"
    },
    {
     "data": {
      "image/png": "[encoded data removed]",
      "text/plain": [
       "<Figure size 640x480 with 1 Axes>"
      ]
     },
     "metadata": {},
     "output_type": "display_data"
    }
   ],
   "source": [
    "plt.hist(ratings - predictions, bins=30)"
   ]
  },
  {
   "cell_type": "code",
   "execution_count": 55,
   "id": "42f74a70",
   "metadata": {},
   "outputs": [
    {
     "data": {
      "text/plain": [
       "104552"
      ]
     },
     "execution_count": 55,
     "metadata": {},
     "output_type": "execute_result"
    }
   ],
   "source": [
    "(ratings - predictions).argmax()"
   ]
  },
  {
   "cell_type": "code",
   "execution_count": 51,
   "id": "81542afd",
   "metadata": {},
   "outputs": [
    {
     "data": {
      "text/plain": [
       "1.0"
      ]
     },
     "execution_count": 51,
     "metadata": {},
     "output_type": "execute_result"
    }
   ],
   "source": [
    "ratings[173486]"
   ]
  },
  {
   "cell_type": "code",
   "execution_count": 52,
   "id": "e8f11ad0",
   "metadata": {},
   "outputs": [
    {
     "data": {
      "text/plain": [
       "7.8260884"
      ]
     },
     "execution_count": 52,
     "metadata": {},
     "output_type": "execute_result"
    }
   ],
   "source": [
    "predictions[173486]"
   ]
  },
  {
   "cell_type": "code",
   "execution_count": 58,
   "id": "cc006a40",
   "metadata": {},
   "outputs": [
    {
     "data": {
      "text/plain": [
       "8.907213"
      ]
     },
     "execution_count": 58,
     "metadata": {},
     "output_type": "execute_result"
    }
   ],
   "source": [
    "predictions.max()"
   ]
  },
  {
   "cell_type": "code",
   "execution_count": null,
   "id": "0a80867e",
   "metadata": {},
   "outputs": [],
   "source": []
  }
 ],
 "metadata": {
  "kernelspec": {
   "display_name": "Python 3 (ipykernel)",
   "language": "python",
   "name": "python3"
  },
  "language_info": {
   "codemirror_mode": {
    "name": "ipython",
    "version": 3
   },
   "file_extension": ".py",
   "mimetype": "text/x-python",
   "name": "python",
   "nbconvert_exporter": "python",
   "pygments_lexer": "ipython3",
   "version": "3.10.12"
  }
 },
 "nbformat": 4,
 "nbformat_minor": 5
}
